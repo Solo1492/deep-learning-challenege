{
 "cells": [
  {
   "cell_type": "markdown",
   "metadata": {},
   "source": [
    "## Preprocessing"
   ]
  },
  {
   "cell_type": "code",
   "execution_count": 4,
   "metadata": {},
   "outputs": [
    {
     "data": {
      "text/plain": [
       "EIN                        int64\n",
       "NAME                      object\n",
       "APPLICATION_TYPE          object\n",
       "AFFILIATION               object\n",
       "CLASSIFICATION            object\n",
       "USE_CASE                  object\n",
       "ORGANIZATION              object\n",
       "STATUS                     int64\n",
       "INCOME_AMT                object\n",
       "SPECIAL_CONSIDERATIONS    object\n",
       "ASK_AMT                    int64\n",
       "IS_SUCCESSFUL              int64\n",
       "dtype: object"
      ]
     },
     "execution_count": 4,
     "metadata": {},
     "output_type": "execute_result"
    }
   ],
   "source": [
    "# Import our dependencies\n",
    "from sklearn.model_selection import train_test_split\n",
    "from sklearn.preprocessing import StandardScaler\n",
    "import pandas as pd\n",
    "import tensorflow as tf\n",
    "\n",
    "#  Import and read the charity_data.csv.\n",
    "import pandas as pd \n",
    "application_df = pd.read_csv(\"Resources/charity_data.csv\")\n",
    "application_df.dtypes"
   ]
  },
  {
   "cell_type": "code",
   "execution_count": 6,
   "metadata": {},
   "outputs": [],
   "source": [
    "# Drop the non-beneficial ID columns, 'EIN' and 'NAME'.\n",
    "application_df = application_df.drop(['EIN', 'NAME'], axis=1)"
   ]
  },
  {
   "cell_type": "code",
   "execution_count": 7,
   "metadata": {},
   "outputs": [
    {
     "data": {
      "text/plain": [
       "APPLICATION_TYPE            17\n",
       "AFFILIATION                  6\n",
       "CLASSIFICATION              71\n",
       "USE_CASE                     5\n",
       "ORGANIZATION                 4\n",
       "STATUS                       2\n",
       "INCOME_AMT                   9\n",
       "SPECIAL_CONSIDERATIONS       2\n",
       "ASK_AMT                   8747\n",
       "IS_SUCCESSFUL                2\n",
       "dtype: int64"
      ]
     },
     "execution_count": 7,
     "metadata": {},
     "output_type": "execute_result"
    }
   ],
   "source": [
    "# Determine the number of unique values in each column.\n",
    "unique_counts = application_df.nunique()\n",
    "\n",
    "unique_counts"
   ]
  },
  {
   "cell_type": "code",
   "execution_count": 9,
   "metadata": {},
   "outputs": [
    {
     "data": {
      "text/plain": [
       "T3     27037\n",
       "T4      1542\n",
       "T6      1216\n",
       "T5      1173\n",
       "T19     1065\n",
       "T8       737\n",
       "T7       725\n",
       "T10      528\n",
       "T9       156\n",
       "T13       66\n",
       "T12       27\n",
       "T2        16\n",
       "T25        3\n",
       "T14        3\n",
       "T29        2\n",
       "T15        2\n",
       "T17        1\n",
       "Name: APPLICATION_TYPE, dtype: int64"
      ]
     },
     "execution_count": 9,
     "metadata": {},
     "output_type": "execute_result"
    }
   ],
   "source": [
    "# Look at APPLICATION_TYPE value counts for binning\n",
    "application_type_counts = application_df['APPLICATION_TYPE'].value_counts()\n",
    "\n",
    "application_type_counts"
   ]
  },
  {
   "cell_type": "code",
   "execution_count": 12,
   "metadata": {},
   "outputs": [
    {
     "data": {
      "text/plain": [
       "T3       27037\n",
       "Other     2266\n",
       "T4        1542\n",
       "T6        1216\n",
       "T5        1173\n",
       "T19       1065\n",
       "Name: APPLICATION_TYPE, dtype: int64"
      ]
     },
     "execution_count": 12,
     "metadata": {},
     "output_type": "execute_result"
    }
   ],
   "source": [
    "# Choose a cutoff value and create a list of application types to be replaced\n",
    "# use the variable name `application_types_to_replace`\n",
    "cutoff_value = 1000\n",
    "\n",
    "# Filter the application types based on the cutoff value\n",
    "application_types_to_replace = application_type_counts[application_type_counts < cutoff_value].index.tolist()\n",
    "\n",
    "application_types_to_replace\n",
    "\n",
    "# Replace in dataframe\n",
    "for app in application_types_to_replace:\n",
    "    application_df['APPLICATION_TYPE'] = application_df['APPLICATION_TYPE'].replace(app,\"Other\")\n",
    "\n",
    "# Check to make sure binning was successful\n",
    "application_df['APPLICATION_TYPE'].value_counts()"
   ]
  },
  {
   "cell_type": "code",
   "execution_count": 13,
   "metadata": {},
   "outputs": [
    {
     "data": {
      "text/plain": [
       "C1000    17326\n",
       "C2000     6074\n",
       "C1200     4837\n",
       "C3000     1918\n",
       "C2100     1883\n",
       "         ...  \n",
       "C2600        1\n",
       "C1570        1\n",
       "C5200        1\n",
       "C1236        1\n",
       "C4500        1\n",
       "Name: CLASSIFICATION, Length: 71, dtype: int64"
      ]
     },
     "execution_count": 13,
     "metadata": {},
     "output_type": "execute_result"
    }
   ],
   "source": [
    "# Look at CLASSIFICATION value counts for binning\n",
    "classification_counts = application_df['CLASSIFICATION'].value_counts()\n",
    "\n",
    "classification_counts\n"
   ]
  },
  {
   "cell_type": "code",
   "execution_count": 14,
   "metadata": {},
   "outputs": [
    {
     "data": {
      "text/plain": [
       "C1000    17326\n",
       "C2000     6074\n",
       "C1200     4837\n",
       "C3000     1918\n",
       "C2100     1883\n",
       "C7000      777\n",
       "C1700      287\n",
       "C4000      194\n",
       "C5000      116\n",
       "C1270      114\n",
       "C2700      104\n",
       "C2800       95\n",
       "C7100       75\n",
       "C1300       58\n",
       "C1280       50\n",
       "C1230       36\n",
       "C1400       34\n",
       "C2300       32\n",
       "C7200       32\n",
       "C1240       30\n",
       "C8000       20\n",
       "C7120       18\n",
       "C1500       16\n",
       "C6000       15\n",
       "C1800       15\n",
       "C1250       14\n",
       "C8200       11\n",
       "C1238       10\n",
       "C1278       10\n",
       "C1237        9\n",
       "C1235        9\n",
       "C7210        7\n",
       "C1720        6\n",
       "C2400        6\n",
       "C4100        6\n",
       "C1257        5\n",
       "C1600        5\n",
       "C0           3\n",
       "C1260        3\n",
       "C2710        3\n",
       "C1246        2\n",
       "C1267        2\n",
       "C1234        2\n",
       "C3200        2\n",
       "C1256        2\n",
       "Name: CLASSIFICATION, dtype: int64"
      ]
     },
     "execution_count": 14,
     "metadata": {},
     "output_type": "execute_result"
    }
   ],
   "source": [
    "# You may find it helpful to look at CLASSIFICATION value counts >1\n",
    "classification_counts = application_df['CLASSIFICATION'].value_counts()\n",
    "classification_counts_greater_than_one = classification_counts[classification_counts > 1]\n",
    "\n",
    "classification_counts_greater_than_one\n"
   ]
  },
  {
   "cell_type": "code",
   "execution_count": 15,
   "metadata": {},
   "outputs": [
    {
     "data": {
      "text/plain": [
       "C1000    17326\n",
       "C2000     6074\n",
       "C1200     4837\n",
       "C3000     1918\n",
       "C2100     1883\n",
       "C7000      777\n",
       "Other      669\n",
       "C1700      287\n",
       "C4000      194\n",
       "C5000      116\n",
       "C1270      114\n",
       "C2700      104\n",
       "Name: CLASSIFICATION, dtype: int64"
      ]
     },
     "execution_count": 15,
     "metadata": {},
     "output_type": "execute_result"
    }
   ],
   "source": [
    "# Choose a cutoff value and create a list of classifications to be replaced\n",
    "# use the variable name `classifications_to_replace`\n",
    "cutoff_value = 100\n",
    "\n",
    "classification_counts = application_df['CLASSIFICATION'].value_counts()\n",
    "classifications_to_replace = classification_counts[classification_counts < cutoff_value].index.tolist()\n",
    "\n",
    "classifications_to_replace\n",
    "\n",
    "# Replace in dataframe\n",
    "for cls in classifications_to_replace:\n",
    "    application_df['CLASSIFICATION'] = application_df['CLASSIFICATION'].replace(cls,\"Other\")\n",
    "    \n",
    "# Check to make sure binning was successful\n",
    "application_df['CLASSIFICATION'].value_counts()"
   ]
  },
  {
   "cell_type": "code",
   "execution_count": 22,
   "metadata": {},
   "outputs": [
    {
     "name": "stdout",
     "output_type": "stream",
     "text": [
      "   ASK_AMT  IS_SUCCESSFUL  APPLICATION_TYPE_Other  APPLICATION_TYPE_T19  \\\n",
      "0     5000              1                       1                     0   \n",
      "1   108590              1                       0                     0   \n",
      "2     5000              0                       0                     0   \n",
      "3     6692              1                       0                     0   \n",
      "4   142590              1                       0                     0   \n",
      "\n",
      "   APPLICATION_TYPE_T3  APPLICATION_TYPE_T4  APPLICATION_TYPE_T5  \\\n",
      "0                    0                    0                    0   \n",
      "1                    1                    0                    0   \n",
      "2                    0                    0                    1   \n",
      "3                    1                    0                    0   \n",
      "4                    1                    0                    0   \n",
      "\n",
      "   APPLICATION_TYPE_T6  CLASSIFICATION_C1000  CLASSIFICATION_C1200  ...  \\\n",
      "0                    0                     1                     0  ...   \n",
      "1                    0                     0                     0  ...   \n",
      "2                    0                     0                     0  ...   \n",
      "3                    0                     0                     0  ...   \n",
      "4                    0                     1                     0  ...   \n",
      "\n",
      "   INCOME_AMT_1-9999  INCOME_AMT_10000-24999  INCOME_AMT_100000-499999  \\\n",
      "0                  0                       0                         0   \n",
      "1                  1                       0                         0   \n",
      "2                  0                       0                         0   \n",
      "3                  0                       1                         0   \n",
      "4                  0                       0                         1   \n",
      "\n",
      "   INCOME_AMT_10M-50M  INCOME_AMT_1M-5M  INCOME_AMT_25000-99999  \\\n",
      "0                   0                 0                       0   \n",
      "1                   0                 0                       0   \n",
      "2                   0                 0                       0   \n",
      "3                   0                 0                       0   \n",
      "4                   0                 0                       0   \n",
      "\n",
      "   INCOME_AMT_50M+  INCOME_AMT_5M-10M  SPECIAL_CONSIDERATIONS_N  \\\n",
      "0                0                  0                         1   \n",
      "1                0                  0                         1   \n",
      "2                0                  0                         1   \n",
      "3                0                  0                         1   \n",
      "4                0                  0                         1   \n",
      "\n",
      "   SPECIAL_CONSIDERATIONS_Y  \n",
      "0                         0  \n",
      "1                         0  \n",
      "2                         0  \n",
      "3                         0  \n",
      "4                         0  \n",
      "\n",
      "[5 rows x 48 columns]\n"
     ]
    }
   ],
   "source": [
    "# Convert categorical data to numeric with `pd.get_dummies`\n",
    "# Select the categorical columns to convert\n",
    "categorical_columns = ['AFFILIATION', 'USE_CASE', 'ORGANIZATION', 'STATUS', 'INCOME_AMT', 'SPECIAL_CONSIDERATIONS']\n",
    "\n",
    "# Convert categorical columns to dummy variables\n",
    "application_df = pd.get_dummies(application_df, columns=categorical_columns)\n",
    "\n",
    "# Print the updated dataframe\n",
    "print(application_df.head())"
   ]
  },
  {
   "cell_type": "code",
   "execution_count": 23,
   "metadata": {},
   "outputs": [
    {
     "name": "stdout",
     "output_type": "stream",
     "text": [
      "Shape of X: (34299, 47)\n",
      "Shape of y: (34299,)\n",
      "Shape of X_train: (27439, 47)\n",
      "Shape of X_test: (6860, 47)\n",
      "Shape of y_train: (27439,)\n",
      "Shape of y_test: (6860,)\n"
     ]
    }
   ],
   "source": [
    "# Split our preprocessed data into our features and target arrays\n",
    "# Split the data into features (X) and target (y)\n",
    "X = application_df.drop('IS_SUCCESSFUL', axis=1)\n",
    "y = application_df['IS_SUCCESSFUL']\n",
    "\n",
    "# Print the shapes of the feature and target arrays\n",
    "print(\"Shape of X:\", X.shape)\n",
    "print(\"Shape of y:\", y.shape)\n",
    "\n",
    "# Split the preprocessed data into a training and testing dataset\n",
    "\n",
    "X_train, X_test, y_train, y_test = train_test_split(X, y, test_size=0.2, random_state=42)\n",
    "\n",
    "# Print the shapes of the training and testing sets\n",
    "print(\"Shape of X_train:\", X_train.shape)\n",
    "print(\"Shape of X_test:\", X_test.shape)\n",
    "print(\"Shape of y_train:\", y_train.shape)\n",
    "print(\"Shape of y_test:\", y_test.shape)"
   ]
  },
  {
   "cell_type": "code",
   "execution_count": 24,
   "metadata": {},
   "outputs": [],
   "source": [
    "# Create a StandardScaler instances\n",
    "scaler = StandardScaler()\n",
    "\n",
    "# Fit the StandardScaler\n",
    "X_scaler = scaler.fit(X_train)\n",
    "\n",
    "# Scale the data\n",
    "X_train_scaled = X_scaler.transform(X_train)\n",
    "X_test_scaled = X_scaler.transform(X_test)"
   ]
  },
  {
   "cell_type": "markdown",
   "metadata": {},
   "source": [
    "## Compile, Train and Evaluate the Model"
   ]
  },
  {
   "cell_type": "code",
   "execution_count": 25,
   "metadata": {},
   "outputs": [
    {
     "name": "stdout",
     "output_type": "stream",
     "text": [
      "Model: \"sequential\"\n",
      "_________________________________________________________________\n",
      " Layer (type)                Output Shape              Param #   \n",
      "=================================================================\n",
      " dense (Dense)               (None, 100)               4800      \n",
      "                                                                 \n",
      " dense_1 (Dense)             (None, 50)                5050      \n",
      "                                                                 \n",
      " dense_2 (Dense)             (None, 1)                 51        \n",
      "                                                                 \n",
      "=================================================================\n",
      "Total params: 9,901\n",
      "Trainable params: 9,901\n",
      "Non-trainable params: 0\n",
      "_________________________________________________________________\n"
     ]
    }
   ],
   "source": [
    "# Define the model - deep neural net, i.e., the number of input features and hidden nodes for each layer.\n",
    "# Define the number of input features\n",
    "input_features = X_train_scaled.shape[1]\n",
    "\n",
    "# Define the number of nodes for each hidden layer\n",
    "hidden_nodes_layer1 = 100\n",
    "hidden_nodes_layer2 = 50\n",
    "\n",
    "nn = tf.keras.models.Sequential()\n",
    "\n",
    "# First hidden layer\n",
    "nn.add(tf.keras.layers.Dense(units=hidden_nodes_layer1, input_dim=input_features, activation='relu'))\n",
    "\n",
    "# Second hidden layer\n",
    "nn.add(tf.keras.layers.Dense(units=hidden_nodes_layer2, activation='relu'))\n",
    "\n",
    "# Output layer\n",
    "nn.add(tf.keras.layers.Dense(units=1, activation='sigmoid'))\n",
    "\n",
    "# Check the structure of the model\n",
    "nn.summary()"
   ]
  },
  {
   "cell_type": "code",
   "execution_count": 26,
   "metadata": {},
   "outputs": [],
   "source": [
    "# Compile the model\n",
    "nn.compile(loss='binary_crossentropy', optimizer='adam', metrics=['accuracy'])"
   ]
  },
  {
   "cell_type": "code",
   "execution_count": 28,
   "metadata": {},
   "outputs": [
    {
     "name": "stdout",
     "output_type": "stream",
     "text": [
      "Epoch 1/100\n",
      "858/858 [==============================] - 2s 2ms/step - loss: 0.5693 - accuracy: 0.7234\n",
      "Epoch 2/100\n",
      "858/858 [==============================] - 2s 2ms/step - loss: 0.5565 - accuracy: 0.7296\n",
      "Epoch 3/100\n",
      "858/858 [==============================] - 2s 2ms/step - loss: 0.5531 - accuracy: 0.7289\n",
      "Epoch 4/100\n",
      "858/858 [==============================] - 2s 2ms/step - loss: 0.5511 - accuracy: 0.7302\n",
      "Epoch 5/100\n",
      "858/858 [==============================] - 2s 2ms/step - loss: 0.5510 - accuracy: 0.7320\n",
      "Epoch 6/100\n",
      "858/858 [==============================] - 2s 2ms/step - loss: 0.5491 - accuracy: 0.7327\n",
      "Epoch 7/100\n",
      "858/858 [==============================] - 2s 2ms/step - loss: 0.5485 - accuracy: 0.7325\n",
      "Epoch 8/100\n",
      "858/858 [==============================] - 2s 2ms/step - loss: 0.5471 - accuracy: 0.7330\n",
      "Epoch 9/100\n",
      "858/858 [==============================] - 2s 2ms/step - loss: 0.5470 - accuracy: 0.7340\n",
      "Epoch 10/100\n",
      "858/858 [==============================] - 2s 2ms/step - loss: 0.5469 - accuracy: 0.7346\n",
      "Epoch 11/100\n",
      "858/858 [==============================] - 2s 2ms/step - loss: 0.5455 - accuracy: 0.7335\n",
      "Epoch 12/100\n",
      "858/858 [==============================] - 2s 2ms/step - loss: 0.5453 - accuracy: 0.7345\n",
      "Epoch 13/100\n",
      "858/858 [==============================] - 2s 3ms/step - loss: 0.5447 - accuracy: 0.7348\n",
      "Epoch 14/100\n",
      "858/858 [==============================] - 2s 2ms/step - loss: 0.5446 - accuracy: 0.7354\n",
      "Epoch 15/100\n",
      "858/858 [==============================] - 2s 2ms/step - loss: 0.5441 - accuracy: 0.7365\n",
      "Epoch 16/100\n",
      "858/858 [==============================] - 2s 2ms/step - loss: 0.5438 - accuracy: 0.7348\n",
      "Epoch 17/100\n",
      "858/858 [==============================] - 2s 2ms/step - loss: 0.5440 - accuracy: 0.7372\n",
      "Epoch 18/100\n",
      "858/858 [==============================] - 2s 2ms/step - loss: 0.5431 - accuracy: 0.7351\n",
      "Epoch 19/100\n",
      "858/858 [==============================] - 2s 2ms/step - loss: 0.5431 - accuracy: 0.7371\n",
      "Epoch 20/100\n",
      "858/858 [==============================] - 2s 2ms/step - loss: 0.5429 - accuracy: 0.7363\n",
      "Epoch 21/100\n",
      "858/858 [==============================] - 2s 2ms/step - loss: 0.5423 - accuracy: 0.7373\n",
      "Epoch 22/100\n",
      "858/858 [==============================] - 2s 2ms/step - loss: 0.5420 - accuracy: 0.7360\n",
      "Epoch 23/100\n",
      "858/858 [==============================] - 2s 2ms/step - loss: 0.5426 - accuracy: 0.7364\n",
      "Epoch 24/100\n",
      "858/858 [==============================] - 2s 2ms/step - loss: 0.5420 - accuracy: 0.7373\n",
      "Epoch 25/100\n",
      "858/858 [==============================] - 2s 2ms/step - loss: 0.5414 - accuracy: 0.7369\n",
      "Epoch 26/100\n",
      "858/858 [==============================] - 2s 2ms/step - loss: 0.5415 - accuracy: 0.7369\n",
      "Epoch 27/100\n",
      "858/858 [==============================] - 2s 2ms/step - loss: 0.5411 - accuracy: 0.7360\n",
      "Epoch 28/100\n",
      "858/858 [==============================] - 2s 2ms/step - loss: 0.5411 - accuracy: 0.7368\n",
      "Epoch 29/100\n",
      "858/858 [==============================] - 2s 2ms/step - loss: 0.5406 - accuracy: 0.7379\n",
      "Epoch 30/100\n",
      "858/858 [==============================] - 2s 2ms/step - loss: 0.5400 - accuracy: 0.7379\n",
      "Epoch 31/100\n",
      "858/858 [==============================] - 2s 2ms/step - loss: 0.5405 - accuracy: 0.7378\n",
      "Epoch 32/100\n",
      "858/858 [==============================] - 2s 2ms/step - loss: 0.5400 - accuracy: 0.7379\n",
      "Epoch 33/100\n",
      "858/858 [==============================] - 2s 2ms/step - loss: 0.5397 - accuracy: 0.7379\n",
      "Epoch 34/100\n",
      "858/858 [==============================] - 2s 2ms/step - loss: 0.5390 - accuracy: 0.7382\n",
      "Epoch 35/100\n",
      "858/858 [==============================] - 2s 2ms/step - loss: 0.5397 - accuracy: 0.7380\n",
      "Epoch 36/100\n",
      "858/858 [==============================] - 2s 2ms/step - loss: 0.5392 - accuracy: 0.7393\n",
      "Epoch 37/100\n",
      "858/858 [==============================] - 2s 2ms/step - loss: 0.5393 - accuracy: 0.7377\n",
      "Epoch 38/100\n",
      "858/858 [==============================] - 2s 2ms/step - loss: 0.5390 - accuracy: 0.7382\n",
      "Epoch 39/100\n",
      "858/858 [==============================] - 2s 2ms/step - loss: 0.5392 - accuracy: 0.7387\n",
      "Epoch 40/100\n",
      "858/858 [==============================] - 2s 2ms/step - loss: 0.5390 - accuracy: 0.7391\n",
      "Epoch 41/100\n",
      "858/858 [==============================] - 2s 2ms/step - loss: 0.5385 - accuracy: 0.7388\n",
      "Epoch 42/100\n",
      "858/858 [==============================] - 2s 2ms/step - loss: 0.5387 - accuracy: 0.7381\n",
      "Epoch 43/100\n",
      "858/858 [==============================] - 2s 2ms/step - loss: 0.5384 - accuracy: 0.7393\n",
      "Epoch 44/100\n",
      "858/858 [==============================] - 2s 2ms/step - loss: 0.5386 - accuracy: 0.7391\n",
      "Epoch 45/100\n",
      "858/858 [==============================] - 2s 2ms/step - loss: 0.5386 - accuracy: 0.7394\n",
      "Epoch 46/100\n",
      "858/858 [==============================] - 2s 2ms/step - loss: 0.5385 - accuracy: 0.7392\n",
      "Epoch 47/100\n",
      "858/858 [==============================] - 2s 2ms/step - loss: 0.5379 - accuracy: 0.7388\n",
      "Epoch 48/100\n",
      "858/858 [==============================] - 2s 2ms/step - loss: 0.5382 - accuracy: 0.7391\n",
      "Epoch 49/100\n",
      "858/858 [==============================] - 2s 2ms/step - loss: 0.5381 - accuracy: 0.7382\n",
      "Epoch 50/100\n",
      "858/858 [==============================] - 2s 2ms/step - loss: 0.5378 - accuracy: 0.7401\n",
      "Epoch 51/100\n",
      "858/858 [==============================] - 2s 2ms/step - loss: 0.5378 - accuracy: 0.7391\n",
      "Epoch 52/100\n",
      "858/858 [==============================] - 2s 2ms/step - loss: 0.5375 - accuracy: 0.7394\n",
      "Epoch 53/100\n",
      "858/858 [==============================] - 2s 2ms/step - loss: 0.5373 - accuracy: 0.7398\n",
      "Epoch 54/100\n",
      "858/858 [==============================] - 2s 2ms/step - loss: 0.5375 - accuracy: 0.7395\n",
      "Epoch 55/100\n",
      "858/858 [==============================] - 2s 2ms/step - loss: 0.5375 - accuracy: 0.7392\n",
      "Epoch 56/100\n",
      "858/858 [==============================] - 2s 2ms/step - loss: 0.5374 - accuracy: 0.7394\n",
      "Epoch 57/100\n",
      "858/858 [==============================] - 2s 2ms/step - loss: 0.5372 - accuracy: 0.7394\n",
      "Epoch 58/100\n",
      "858/858 [==============================] - 2s 2ms/step - loss: 0.5372 - accuracy: 0.7394\n",
      "Epoch 59/100\n",
      "858/858 [==============================] - 2s 2ms/step - loss: 0.5372 - accuracy: 0.7397\n",
      "Epoch 60/100\n",
      "858/858 [==============================] - 2s 2ms/step - loss: 0.5370 - accuracy: 0.7396\n",
      "Epoch 61/100\n",
      "858/858 [==============================] - 2s 2ms/step - loss: 0.5369 - accuracy: 0.7396\n",
      "Epoch 62/100\n",
      "858/858 [==============================] - 2s 2ms/step - loss: 0.5370 - accuracy: 0.7395\n",
      "Epoch 63/100\n",
      "858/858 [==============================] - 2s 2ms/step - loss: 0.5365 - accuracy: 0.7395\n",
      "Epoch 64/100\n",
      "858/858 [==============================] - 2s 2ms/step - loss: 0.5371 - accuracy: 0.7398\n",
      "Epoch 65/100\n",
      "858/858 [==============================] - 2s 2ms/step - loss: 0.5361 - accuracy: 0.7399\n",
      "Epoch 66/100\n",
      "858/858 [==============================] - 2s 2ms/step - loss: 0.5365 - accuracy: 0.7388\n",
      "Epoch 67/100\n",
      "858/858 [==============================] - 2s 2ms/step - loss: 0.5363 - accuracy: 0.7399\n",
      "Epoch 68/100\n",
      "858/858 [==============================] - 2s 2ms/step - loss: 0.5363 - accuracy: 0.7403\n",
      "Epoch 69/100\n",
      "858/858 [==============================] - 2s 2ms/step - loss: 0.5365 - accuracy: 0.7403\n",
      "Epoch 70/100\n",
      "858/858 [==============================] - 2s 2ms/step - loss: 0.5357 - accuracy: 0.7397\n",
      "Epoch 71/100\n",
      "858/858 [==============================] - 2s 2ms/step - loss: 0.5362 - accuracy: 0.7394\n",
      "Epoch 72/100\n",
      "858/858 [==============================] - 2s 2ms/step - loss: 0.5360 - accuracy: 0.7398\n",
      "Epoch 73/100\n",
      "858/858 [==============================] - 2s 2ms/step - loss: 0.5357 - accuracy: 0.7403\n",
      "Epoch 74/100\n",
      "858/858 [==============================] - 2s 2ms/step - loss: 0.5363 - accuracy: 0.7396\n",
      "Epoch 75/100\n",
      "858/858 [==============================] - 2s 3ms/step - loss: 0.5357 - accuracy: 0.7393\n",
      "Epoch 76/100\n",
      "858/858 [==============================] - 2s 3ms/step - loss: 0.5368 - accuracy: 0.7401\n",
      "Epoch 77/100\n",
      "858/858 [==============================] - 2s 2ms/step - loss: 0.5358 - accuracy: 0.7402\n",
      "Epoch 78/100\n",
      "858/858 [==============================] - 2s 3ms/step - loss: 0.5360 - accuracy: 0.7399\n",
      "Epoch 79/100\n",
      "858/858 [==============================] - 2s 2ms/step - loss: 0.5358 - accuracy: 0.7397\n",
      "Epoch 80/100\n",
      "858/858 [==============================] - 2s 2ms/step - loss: 0.5354 - accuracy: 0.7402\n",
      "Epoch 81/100\n"
     ]
    },
    {
     "name": "stdout",
     "output_type": "stream",
     "text": [
      "858/858 [==============================] - 2s 2ms/step - loss: 0.5353 - accuracy: 0.7398\n",
      "Epoch 82/100\n",
      "858/858 [==============================] - 2s 2ms/step - loss: 0.5358 - accuracy: 0.7396\n",
      "Epoch 83/100\n",
      "858/858 [==============================] - 2s 2ms/step - loss: 0.5357 - accuracy: 0.7404\n",
      "Epoch 84/100\n",
      "858/858 [==============================] - 2s 2ms/step - loss: 0.5359 - accuracy: 0.7403\n",
      "Epoch 85/100\n",
      "858/858 [==============================] - 2s 2ms/step - loss: 0.5349 - accuracy: 0.7401\n",
      "Epoch 86/100\n",
      "858/858 [==============================] - 2s 2ms/step - loss: 0.5355 - accuracy: 0.7399\n",
      "Epoch 87/100\n",
      "858/858 [==============================] - 2s 2ms/step - loss: 0.5353 - accuracy: 0.7402\n",
      "Epoch 88/100\n",
      "858/858 [==============================] - 2s 2ms/step - loss: 0.5350 - accuracy: 0.7402\n",
      "Epoch 89/100\n",
      "858/858 [==============================] - 2s 2ms/step - loss: 0.5355 - accuracy: 0.7397\n",
      "Epoch 90/100\n",
      "858/858 [==============================] - 2s 2ms/step - loss: 0.5352 - accuracy: 0.7401\n",
      "Epoch 91/100\n",
      "858/858 [==============================] - 2s 2ms/step - loss: 0.5350 - accuracy: 0.7410\n",
      "Epoch 92/100\n",
      "858/858 [==============================] - 2s 2ms/step - loss: 0.5349 - accuracy: 0.7400\n",
      "Epoch 93/100\n",
      "858/858 [==============================] - 2s 2ms/step - loss: 0.5351 - accuracy: 0.7402\n",
      "Epoch 94/100\n",
      "858/858 [==============================] - 2s 2ms/step - loss: 0.5344 - accuracy: 0.7402\n",
      "Epoch 95/100\n",
      "858/858 [==============================] - 2s 2ms/step - loss: 0.5349 - accuracy: 0.7403\n",
      "Epoch 96/100\n",
      "858/858 [==============================] - 2s 2ms/step - loss: 0.5345 - accuracy: 0.7404\n",
      "Epoch 97/100\n",
      "858/858 [==============================] - 2s 2ms/step - loss: 0.5350 - accuracy: 0.7400\n",
      "Epoch 98/100\n",
      "858/858 [==============================] - 2s 2ms/step - loss: 0.5346 - accuracy: 0.7406\n",
      "Epoch 99/100\n",
      "858/858 [==============================] - 2s 2ms/step - loss: 0.5347 - accuracy: 0.7399\n",
      "Epoch 100/100\n",
      "858/858 [==============================] - 2s 2ms/step - loss: 0.5343 - accuracy: 0.7406\n"
     ]
    },
    {
     "data": {
      "text/plain": [
       "<keras.callbacks.History at 0x26f1734aa48>"
      ]
     },
     "execution_count": 28,
     "metadata": {},
     "output_type": "execute_result"
    }
   ],
   "source": [
    "# Train the model\n",
    "# Define the number of epochs and batch size\n",
    "epochs = 100\n",
    "batch_size = 32\n",
    "\n",
    "# Train the model\n",
    "nn.fit(X_train_scaled, y_train, epochs=epochs, batch_size=batch_size, verbose=1)"
   ]
  },
  {
   "cell_type": "code",
   "execution_count": 29,
   "metadata": {},
   "outputs": [
    {
     "name": "stdout",
     "output_type": "stream",
     "text": [
      "215/215 - 0s - loss: 0.5723 - accuracy: 0.7281 - 371ms/epoch - 2ms/step\n",
      "Loss: 0.5722774863243103, Accuracy: 0.7281340956687927\n"
     ]
    }
   ],
   "source": [
    "# Evaluate the model using the test data\n",
    "model_loss, model_accuracy = nn.evaluate(X_test_scaled,y_test,verbose=2)\n",
    "print(f\"Loss: {model_loss}, Accuracy: {model_accuracy}\")"
   ]
  },
  {
   "cell_type": "code",
   "execution_count": 32,
   "metadata": {},
   "outputs": [],
   "source": [
    "# # Export our model to HDF5 file\n",
    "# # Define the filename for the HDF5 file\n",
    "# filename = 'AlphabetSoupCharity.h5'\n",
    "\n",
    "# # Save the model to the HDF5 file\n",
    "# nn.save(filename)"
   ]
  },
  {
   "cell_type": "code",
   "execution_count": 35,
   "metadata": {},
   "outputs": [
    {
     "name": "stdout",
     "output_type": "stream",
     "text": [
      "Epoch 1/50\n",
      "858/858 [==============================] - 2s 2ms/step - loss: 0.5698 - accuracy: 0.7199\n",
      "Epoch 2/50\n",
      "858/858 [==============================] - 2s 2ms/step - loss: 0.5557 - accuracy: 0.7309\n",
      "Epoch 3/50\n",
      "858/858 [==============================] - 2s 2ms/step - loss: 0.5526 - accuracy: 0.7305\n",
      "Epoch 4/50\n",
      "858/858 [==============================] - 2s 2ms/step - loss: 0.5507 - accuracy: 0.7309\n",
      "Epoch 5/50\n",
      "858/858 [==============================] - 2s 2ms/step - loss: 0.5497 - accuracy: 0.7330\n",
      "Epoch 6/50\n",
      "858/858 [==============================] - 2s 2ms/step - loss: 0.5490 - accuracy: 0.7327\n",
      "Epoch 7/50\n",
      "858/858 [==============================] - 2s 2ms/step - loss: 0.5478 - accuracy: 0.7331\n",
      "Epoch 8/50\n",
      "858/858 [==============================] - 2s 2ms/step - loss: 0.5474 - accuracy: 0.7332\n",
      "Epoch 9/50\n",
      "858/858 [==============================] - 2s 2ms/step - loss: 0.5468 - accuracy: 0.7338\n",
      "Epoch 10/50\n",
      "858/858 [==============================] - 2s 2ms/step - loss: 0.5458 - accuracy: 0.7345\n",
      "Epoch 11/50\n",
      "858/858 [==============================] - 2s 2ms/step - loss: 0.5458 - accuracy: 0.7337\n",
      "Epoch 12/50\n",
      "858/858 [==============================] - 2s 2ms/step - loss: 0.5456 - accuracy: 0.7344\n",
      "Epoch 13/50\n",
      "858/858 [==============================] - 2s 2ms/step - loss: 0.5448 - accuracy: 0.7356\n",
      "Epoch 14/50\n",
      "858/858 [==============================] - 2s 2ms/step - loss: 0.5439 - accuracy: 0.7356\n",
      "Epoch 15/50\n",
      "858/858 [==============================] - 2s 2ms/step - loss: 0.5439 - accuracy: 0.7358\n",
      "Epoch 16/50\n",
      "858/858 [==============================] - 2s 3ms/step - loss: 0.5438 - accuracy: 0.7359\n",
      "Epoch 17/50\n",
      "858/858 [==============================] - 3s 3ms/step - loss: 0.5431 - accuracy: 0.7357\n",
      "Epoch 18/50\n",
      "858/858 [==============================] - 2s 2ms/step - loss: 0.5435 - accuracy: 0.7353\n",
      "Epoch 19/50\n",
      "858/858 [==============================] - 2s 2ms/step - loss: 0.5423 - accuracy: 0.7364\n",
      "Epoch 20/50\n",
      "858/858 [==============================] - 2s 2ms/step - loss: 0.5427 - accuracy: 0.7360\n",
      "Epoch 21/50\n",
      "858/858 [==============================] - 2s 2ms/step - loss: 0.5424 - accuracy: 0.7368\n",
      "Epoch 22/50\n",
      "858/858 [==============================] - 2s 2ms/step - loss: 0.5420 - accuracy: 0.7375\n",
      "Epoch 23/50\n",
      "858/858 [==============================] - 3s 3ms/step - loss: 0.5421 - accuracy: 0.7365\n",
      "Epoch 24/50\n",
      "858/858 [==============================] - 2s 2ms/step - loss: 0.5415 - accuracy: 0.7367\n",
      "Epoch 25/50\n",
      "858/858 [==============================] - 2s 2ms/step - loss: 0.5414 - accuracy: 0.7374\n",
      "Epoch 26/50\n",
      "858/858 [==============================] - 2s 2ms/step - loss: 0.5408 - accuracy: 0.7376\n",
      "Epoch 27/50\n",
      "858/858 [==============================] - 3s 3ms/step - loss: 0.5412 - accuracy: 0.7369\n",
      "Epoch 28/50\n",
      "858/858 [==============================] - 4s 4ms/step - loss: 0.5410 - accuracy: 0.7375\n",
      "Epoch 29/50\n",
      "858/858 [==============================] - 2s 2ms/step - loss: 0.5404 - accuracy: 0.7382\n",
      "Epoch 30/50\n",
      "858/858 [==============================] - 2s 2ms/step - loss: 0.5402 - accuracy: 0.7373\n",
      "Epoch 31/50\n",
      "858/858 [==============================] - 2s 2ms/step - loss: 0.5401 - accuracy: 0.7380\n",
      "Epoch 32/50\n",
      "858/858 [==============================] - 2s 2ms/step - loss: 0.5401 - accuracy: 0.7384\n",
      "Epoch 33/50\n",
      "858/858 [==============================] - 2s 2ms/step - loss: 0.5400 - accuracy: 0.7381\n",
      "Epoch 34/50\n",
      "858/858 [==============================] - 2s 2ms/step - loss: 0.5397 - accuracy: 0.7379\n",
      "Epoch 35/50\n",
      "858/858 [==============================] - 2s 2ms/step - loss: 0.5399 - accuracy: 0.7385\n",
      "Epoch 36/50\n",
      "858/858 [==============================] - 2s 2ms/step - loss: 0.5394 - accuracy: 0.7388\n",
      "Epoch 37/50\n",
      "858/858 [==============================] - 2s 2ms/step - loss: 0.5395 - accuracy: 0.7381\n",
      "Epoch 38/50\n",
      "858/858 [==============================] - 2s 2ms/step - loss: 0.5391 - accuracy: 0.7382\n",
      "Epoch 39/50\n",
      "858/858 [==============================] - 2s 2ms/step - loss: 0.5389 - accuracy: 0.7390\n",
      "Epoch 40/50\n",
      "858/858 [==============================] - 2s 2ms/step - loss: 0.5390 - accuracy: 0.7391\n",
      "Epoch 41/50\n",
      "858/858 [==============================] - 2s 2ms/step - loss: 0.5386 - accuracy: 0.7380\n",
      "Epoch 42/50\n",
      "858/858 [==============================] - 2s 2ms/step - loss: 0.5386 - accuracy: 0.7388\n",
      "Epoch 43/50\n",
      "858/858 [==============================] - 2s 3ms/step - loss: 0.5391 - accuracy: 0.7385\n",
      "Epoch 44/50\n",
      "858/858 [==============================] - 2s 2ms/step - loss: 0.5386 - accuracy: 0.7388\n",
      "Epoch 45/50\n",
      "858/858 [==============================] - 2s 2ms/step - loss: 0.5385 - accuracy: 0.7383\n",
      "Epoch 46/50\n",
      "858/858 [==============================] - 2s 2ms/step - loss: 0.5381 - accuracy: 0.7376\n",
      "Epoch 47/50\n",
      "858/858 [==============================] - 2s 2ms/step - loss: 0.5380 - accuracy: 0.7394\n",
      "Epoch 48/50\n",
      "858/858 [==============================] - 2s 2ms/step - loss: 0.5385 - accuracy: 0.7384\n",
      "Epoch 49/50\n",
      "858/858 [==============================] - 2s 2ms/step - loss: 0.5381 - accuracy: 0.7392\n",
      "Epoch 50/50\n",
      "858/858 [==============================] - 2s 2ms/step - loss: 0.5382 - accuracy: 0.7386\n",
      "215/215 - 1s - loss: 0.5601 - accuracy: 0.7287 - 518ms/epoch - 2ms/step\n",
      "Loss: 0.5600870847702026, Accuracy: 0.7287172079086304\n"
     ]
    }
   ],
   "source": [
    "from tensorflow.keras.models import Sequential\n",
    "\n",
    "from tensorflow.keras.layers import Dense\n",
    "\n",
    "\n",
    "# Model Architecture\n",
    "nn = Sequential()\n",
    "\n",
    "# First hidden layer with increased neurons\n",
    "nn.add(Dense(units=128, activation='relu', input_dim=X.shape[1]))\n",
    "\n",
    "# Second hidden layer\n",
    "nn.add(Dense(units=64, activation='relu'))\n",
    "# Output layer\n",
    "nn.add(Dense(units=1, activation='sigmoid'))\n",
    "\n",
    "# Compile the model\n",
    "nn.compile(loss='binary_crossentropy', optimizer='adam', metrics=['accuracy'])\n",
    "\n",
    "# Increase the number of epochs and train the model\n",
    "model = nn.fit(X_train_scaled, y_train, epochs=50, batch_size=32, verbose=1)\n",
    "\n",
    "# Evaluate the model\n",
    "model_loss, model_accuracy = nn.evaluate(X_test_scaled, y_test, verbose=2)\n",
    "print(f\"Loss: {model_loss}, Accuracy: {model_accuracy}\")\n",
    "\n",
    "# Save the optimized model to an HDF5 file\n",
    "nn.save(\"AlphabetSoupCharity_Optimisation.h5\")"
   ]
  },
  {
   "cell_type": "code",
   "execution_count": 36,
   "metadata": {},
   "outputs": [
    {
     "name": "stdout",
     "output_type": "stream",
     "text": [
      "215/215 - 0s - loss: 0.5601 - accuracy: 0.7287 - 274ms/epoch - 1ms/step\n",
      "Loss: 0.5600870847702026, Accuracy: 0.7287172079086304\n"
     ]
    }
   ],
   "source": [
    "# Evaluate the model using the test data\n",
    "model_loss, model_accuracy = nn.evaluate(X_test_scaled,y_test,verbose=2)\n",
    "print(f\"Loss: {model_loss}, Accuracy: {model_accuracy}\")"
   ]
  },
  {
   "cell_type": "code",
   "execution_count": null,
   "metadata": {},
   "outputs": [],
   "source": []
  }
 ],
 "metadata": {
  "kernelspec": {
   "display_name": "Python 3 (ipykernel)",
   "language": "python",
   "name": "python3"
  },
  "language_info": {
   "codemirror_mode": {
    "name": "ipython",
    "version": 3
   },
   "file_extension": ".py",
   "mimetype": "text/x-python",
   "name": "python",
   "nbconvert_exporter": "python",
   "pygments_lexer": "ipython3",
   "version": "3.7.7"
  }
 },
 "nbformat": 4,
 "nbformat_minor": 4
}
